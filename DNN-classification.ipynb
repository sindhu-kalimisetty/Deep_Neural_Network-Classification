{
 "cells": [
  {
   "cell_type": "markdown",
   "id": "869d74f5",
   "metadata": {},
   "source": [
    "<h1 align=\"center\"><font size=\"7\">Deep Learning Project</font></h1>"
   ]
  },
  {
   "cell_type": "markdown",
   "id": "158b5a57",
   "metadata": {},
   "source": [
    "# Introduction"
   ]
  },
  {
   "cell_type": "markdown",
   "id": "c9a35a15",
   "metadata": {},
   "source": [
    "The objective is to classify cat vs non-cat images"
   ]
  },
  {
   "cell_type": "markdown",
   "id": "4378041a",
   "metadata": {},
   "source": [
    "# Importing Packages"
   ]
  },
  {
   "cell_type": "code",
   "execution_count": 6,
   "id": "5c42cf42",
   "metadata": {},
   "outputs": [],
   "source": [
    "import time\n",
    "import numpy as np\n",
    "import h5py\n",
    "import matplotlib.pyplot as plt\n",
    "import scipy\n",
    "import copy\n",
    "plt.rcParams['figure.figsize'] = (5.0, 4.0)\n",
    "plt.rcParams['image.interpolation'] = 'nearest'\n",
    "plt.rcParams['image.cmap'] = 'gray'\n",
    "np.random.seed(1)\n",
    "\n",
    "import os\n",
    "from PIL import Image "
   ]
  },
  {
   "cell_type": "code",
   "execution_count": 7,
   "id": "e2979e2c",
   "metadata": {},
   "outputs": [],
   "source": [
    "image_size = (64,64) \n",
    "batch_size = 30"
   ]
  },
  {
   "cell_type": "code",
   "execution_count": 8,
   "id": "a6715711",
   "metadata": {},
   "outputs": [],
   "source": [
    "train_data_dir = 'E:/Project1/data/train'\n",
    "true_data_dir = 'E:/Project1/data/validation'"
   ]
  },
  {
   "cell_type": "code",
   "execution_count": 9,
   "id": "cecb2423",
   "metadata": {},
   "outputs": [
    {
     "name": "stdout",
     "output_type": "stream",
     "text": [
      "Original Images Shape: (200, 64, 64, 3)\n",
      "Flattened Images Shape: (12288, 200)\n"
     ]
    }
   ],
   "source": [
    "def load_and_preprocess_data(train_data_dir):\n",
    "    \n",
    "    flattened_images = []\n",
    "    target_size = (64, 64)\n",
    "    for filename in os.listdir(train_data_dir):\n",
    "        if filename.endswith('.jpg'):\n",
    "            image_path = os.path.join(train_data_dir, filename)\n",
    "            image = Image.open(image_path)\n",
    "            image_resized = image.resize(target_size)\n",
    "            image_array = np.array(image_resized)\n",
    "            flattened_image = image_array.reshape(-1)\n",
    "            flattened_images.append(flattened_image)\n",
    "    flattened_images_array = np.array(flattened_images)\n",
    "    flattened_images_array = flattened_images_array.T\n",
    "    print(\"Original Images Shape:\", (len(flattened_images),) + image_array.shape)\n",
    "    print(\"Flattened Images Shape:\", flattened_images_array.shape)\n",
    "    train_x = flattened_images_array/255\n",
    "    return train_x\n",
    "check = load_and_preprocess_data(train_data_dir)"
   ]
  },
  {
   "cell_type": "code",
   "execution_count": 10,
   "id": "7af10a22",
   "metadata": {},
   "outputs": [],
   "source": [
    "def initialize_parameters(layer_dims):\n",
    "    np.random.seed(42)\n",
    "    parameters = {}\n",
    "    L= len(layer_dims)\n",
    "    for l in range(1,L):\n",
    "        parameters['W' + str(l)] =(np.random.randn(layer_dims[l], layer_dims[l-1]))*np.sqrt(2/layer_dims[l-1])\n",
    "        parameters['b' + str(l)] = np.zeros((layer_dims[l],1))\n",
    "        assert(parameters['W' +str(l)].shape == (layer_dims[l], layer_dims[l-1]))\n",
    "        assert(parameters['b' +str(l)].shape == (layer_dims[l], 1))\n",
    "    return parameters"
   ]
  },
  {
   "cell_type": "code",
   "execution_count": 19,
   "id": "800246b6",
   "metadata": {
    "scrolled": true
   },
   "outputs": [
    {
     "ename": "SyntaxError",
     "evalue": "incomplete input (1543753024.py, line 11)",
     "output_type": "error",
     "traceback": [
      "\u001b[1;36m  Cell \u001b[1;32mIn[19], line 11\u001b[1;36m\u001b[0m\n\u001b[1;33m    # print(\"b2 =\" +str(parameters[\"b2\"]))\u001b[0m\n\u001b[1;37m                                          ^\u001b[0m\n\u001b[1;31mSyntaxError\u001b[0m\u001b[1;31m:\u001b[0m incomplete input\n"
     ]
    }
   ],
   "source": [
    "layer_dims = [12288, 520, 415, 337, 221, 103, 88, 56, 21, 1]\n",
    "parameters = initialize_parameters(layer_dims)\n",
    "\n",
    "for key, value in parameters.items():\n",
    "#     print(key,value.shape)\n",
    "\n",
    "# print(\"Test_Case : \\n\")\n",
    "# print(\"W1 =\" +str(parameters[\"W1\"]))\n",
    "# print(\"W2 =\" +str(parameters[\"W2\"]))\n",
    "# print(\"b1 =\" +str(parameters[\"b1\"]))\n",
    "# print(\"b2 =\" +str(parameters[\"b2\"]))\n"
   ]
  },
  {
   "cell_type": "code",
   "execution_count": 12,
   "id": "c2cabd8b",
   "metadata": {},
   "outputs": [],
   "source": [
    "\n",
    "def sigmoid(Z):\n",
    "    A = 1 / (1 + np.exp(-Z))\n",
    "    cache = Z\n",
    "    return A, cache\n",
    "def relu(Z):\n",
    "    A = np.maximum(0, Z)\n",
    "    cache = Z\n",
    "    return A, cache\n",
    "\n",
    "def linear_activation_forward(A_prev, W, b, activation):\n",
    "    if activation == \"sigmoid\":\n",
    "        Z, linear_cache = np.dot(W,A_prev)+b, (A_prev, W, b)\n",
    "        A, activation_cache = sigmoid(Z)\n",
    "    elif activation == \"relu\":\n",
    "        Z, linear_cache = np.dot(W,A_prev)+b, (A_prev, W, b)\n",
    "        A, activation_cache = relu(Z)\n",
    "                \n",
    "    cache = (linear_cache, activation_cache) \n",
    "    return A, cache\n",
    "\n",
    "def L_layer_forward(X, parameters):\n",
    "    caches = []\n",
    "    A = X\n",
    "    L = len(parameters)//2\n",
    "    for l in range (1, L):\n",
    "        A_prev = A\n",
    "        A, cache = linear_activation_forward(A_prev, parameters['W' + str(l)], parameters['b' + str(l)], activation = \"relu\")\n",
    "        caches.append(cache)\n",
    "        \n",
    "    AL, cache = linear_activation_forward(A, parameters['W' + str(L)], parameters['b' + str(L)], activation = \"sigmoid\")\n",
    "    caches.append(cache)\n",
    "    \n",
    "    return AL, caches"
   ]
  },
  {
   "cell_type": "code",
   "execution_count": 13,
   "id": "4f7baafa",
   "metadata": {},
   "outputs": [
    {
     "name": "stdout",
     "output_type": "stream",
     "text": [
      "Original Images Shape: (200, 64, 64, 3)\n",
      "Flattened Images Shape: (12288, 200)\n"
     ]
    }
   ],
   "source": [
    "train_data_dir = 'E:/Project1/data/train'\n",
    "X = load_and_preprocess_data(train_data_dir)\n",
    "layer_dims = [12288, 520, 415, 337, 221, 103, 88, 56, 21, 1]\n",
    "parameters = initialize_parameters(layer_dims)\n",
    "\n",
    "AL, caches = L_layer_forward(X, parameters)\n",
    "#print(\"AL =\" + str(AL))"
   ]
  },
  {
   "cell_type": "code",
   "execution_count": 14,
   "id": "3c871eff",
   "metadata": {},
   "outputs": [],
   "source": [
    "def create_true_label_vector(true_data_dir):\n",
    "    label_map = {'cats': 1, 'dogs': 0} \n",
    "    Y = []\n",
    "    for subfolder in os.listdir(true_data_dir):\n",
    "        subfolder_path = os.path.join(true_data_dir, subfolder)\n",
    "        if os.path.isdir(subfolder_path):\n",
    "            label = label_map[subfolder.lower()]  \n",
    "            for filename in os.listdir(subfolder_path):\n",
    "                Y.append(label)\n",
    "\n",
    "    \n",
    "    Y = np.array(Y)\n",
    "\n",
    "    return Y\n",
    "Y = create_true_label_vector(true_data_dir)\n",
    "#print(\"True label vector shape:\", Y.shape)\n"
   ]
  },
  {
   "cell_type": "code",
   "execution_count": 15,
   "id": "eb9853a9",
   "metadata": {},
   "outputs": [
    {
     "name": "stdout",
     "output_type": "stream",
     "text": [
      "cost :0.7424739073515859\n"
     ]
    }
   ],
   "source": [
    "def compute_cost(AL, Y):\n",
    "    Y = Y.reshape(1, -1)\n",
    "    m = Y.shape[1]\n",
    "    cost = -1/m*(np.sum(np.multiply(Y, np.log(AL))+np.multiply((1-Y), np.log(1-AL))))\n",
    "    cost = np.squeeze(cost)\n",
    "    return cost\n",
    "cost = compute_cost(AL, Y)\n",
    "print(\"cost :\" + str(cost))"
   ]
  },
  {
   "cell_type": "code",
   "execution_count": 16,
   "id": "aa2f2a98",
   "metadata": {},
   "outputs": [],
   "source": [
    "def relu_backward(dA, cache):\n",
    "    Z = cache\n",
    "    dZ = np.array(dA, copy= True)\n",
    "    dZ[Z<0]=0\n",
    "    return dZ\n",
    "\n",
    "def sigmoid_backward(dA, cache):\n",
    "    Z = cache\n",
    "    s = 1/(1+np.exp(-Z))\n",
    "    dZ = dA*s*(1-s)\n",
    "    return dZ\n",
    "\n",
    "def linear_backward(dZ, cache):\n",
    "    A_prev, W, b = cache\n",
    "    m = A_prev.shape[1]\n",
    "    dA_prev = np.dot(W.T, dZ)\n",
    "    dW = 1/m*np.dot(dZ, A_prev.T)\n",
    "    db = 1/m*np.sum(dZ, axis =1, keepdims = True)\n",
    "    return dA_prev, dW, db\n",
    "\n",
    "def linear_activation_backward(dA, cache, activation):\n",
    "    linear_cache, activation_cache = cache\n",
    "    if activation == 'relu':\n",
    "        dZ = relu_backward(dA, activation_cache)\n",
    "        dA_prev, dW, db = linear_backward(dZ, linear_cache)\n",
    "    elif activation == 'sigmoid':\n",
    "        dZ = sigmoid_backward(dA, activation_cache)\n",
    "        dA_prev, dW, db = linear_backward(dZ, linear_cache)\n",
    "        \n",
    "    return dA_prev, dW, db\n",
    "\n",
    "\n",
    "def L_layer_backward(AL, Y, caches):\n",
    "    grads={}\n",
    "    L = len(caches)\n",
    "    m = AL.shape[1]\n",
    "    Y = Y.reshape(AL.shape)\n",
    "    \n",
    "    dAL = -(np.divide(Y,AL)-np.divide((1-Y), (1-AL)))\n",
    "    \n",
    "    current_cache = caches[L-1]\n",
    "    grads[\"dA\"+str(L-1)], grads[\"dW\"+str(L)], grads[\"db\"+str(L)] = linear_activation_backward(dAL, current_cache, activation= \"sigmoid\")\n",
    "    \n",
    "    for l in reversed(range(L-1)):\n",
    "        current_cache = caches[l]\n",
    "        dA_prev_temp, dW_temp, db_temp = linear_activation_backward(grads[\"dA\" +str(l+1)], current_cache, activation= \"relu\")\n",
    "        grads[\"dA\"+str(l)] = dA_prev_temp\n",
    "        grads[\"dW\" + str(l+1)] = dW_temp\n",
    "        grads[\"db\"+str(l+1)] = db_temp\n",
    "        \n",
    "    return grads\n",
    "    \n",
    "\n",
    "\n",
    "\n",
    "grads = L_layer_backward(AL, Y, caches)\n",
    "\n",
    "# print(\"dA0 = \" + str(grads['dA0']))\n",
    "# print(\"dA1 = \" + str(grads['dA1']))\n",
    "# print(\"dW1 = \" + str(grads['dW1']))\n",
    "# print(\"dW2 = \" + str(grads['dW2']))\n",
    "# print(\"db1 = \" + str(grads['db1']))\n",
    "# print(\"db2 = \" + str(grads['db2']))\n",
    "    "
   ]
  },
  {
   "cell_type": "code",
   "execution_count": 17,
   "id": "fabe678e",
   "metadata": {},
   "outputs": [],
   "source": [
    "def update_parameters(parameters, grads, learning_rate):\n",
    "   # params = copy.deepcopy(parameters)\n",
    "    L = len(parameters)//2\n",
    "    for l in range(L):\n",
    "        parameters[\"W\" + str(l+1)] -= learning_rate * grads[\"dW\" + str(l+1)]\n",
    "        parameters[\"b\" + str(l+1)] -= learning_rate * grads[\"db\" + str(l+1)]\n",
    "    return parameters\n",
    "parameters = update_parameters(parameters, grads, 0.1)\n",
    "\n",
    "# print (\"W1 = \"+ str(parameters[\"W1\"]))\n",
    "# print (\"b1 = \"+ str(parameters[\"b1\"]))\n",
    "# print (\"W2 = \"+ str(parameters[\"W2\"]))\n",
    "# print (\"b2 = \"+ str(parameters[\"b2\"]))"
   ]
  },
  {
   "cell_type": "code",
   "execution_count": 18,
   "id": "d984cb1c",
   "metadata": {},
   "outputs": [
    {
     "name": "stdout",
     "output_type": "stream",
     "text": [
      "Cost after iteration 0: 0.7424739073515859\n",
      "Cost after iteration 100: 0.5281046705897657\n",
      "Cost after iteration 200: 0.3196576472070168\n",
      "Cost after iteration 300: 0.019269754435368176\n",
      "Cost after iteration 400: 0.005631689071321864\n",
      "Cost after iteration 500: 0.0029561792324722686\n",
      "Cost after iteration 600: 0.0019137595113664888\n",
      "Cost after iteration 700: 0.0013807705624944316\n",
      "Cost after iteration 800: 0.001061128671385537\n",
      "Cost after iteration 900: 0.0008520064160434341\n",
      "Cost after iteration 1000: 0.0007057179969220745\n",
      "Cost after iteration 1100: 0.0005985065294594843\n",
      "Cost after iteration 1200: 0.0005168561283113715\n",
      "Cost after iteration 1300: 0.0004532183783470804\n",
      "Cost after iteration 1400: 0.0004023329820501538\n",
      "Cost after iteration 1500: 0.00036074834847946716\n",
      "Cost after iteration 1600: 0.00032633658352151376\n",
      "Cost after iteration 1700: 0.00029747617574257454\n",
      "Cost after iteration 1800: 0.0002727732047828843\n",
      "Cost after iteration 1900: 0.0002515363455905111\n",
      "Cost after iteration 2000: 0.0002331159922672597\n",
      "Cost after iteration 2100: 0.0002170076076580646\n",
      "Cost after iteration 2200: 0.00020281181362243416\n",
      "Cost after iteration 2300: 0.00019016786428646977\n",
      "Cost after iteration 2400: 0.0001788429195388639\n",
      "Cost after iteration 2499: 0.0001687777741573108\n"
     ]
    }
   ],
   "source": [
    "def L_layer_model(X, Y, layer_dims, learning_rate = 0.01, num_iterations = 3000, print_cost = False):\n",
    "    np.random.seed(3)\n",
    "    costs = []\n",
    "    parameters = initialize_parameters(layer_dims)\n",
    "    for i in range(0, num_iterations):\n",
    "        AL, caches = L_layer_forward(X, parameters)\n",
    "        cost = compute_cost(AL, Y)\n",
    "        grads = L_layer_backward(AL, Y, caches)\n",
    "        parameters = update_parameters(parameters, grads, learning_rate)\n",
    "        if print_cost and i % 100 == 0 or i == num_iterations - 1:\n",
    "            print(\"Cost after iteration {}: {}\".format(i, np.squeeze(cost)))\n",
    "        if i % 100 == 0 or i == num_iterations:\n",
    "            costs.append(cost)\n",
    "    return parameters, costs\n",
    "\n",
    "parameters, costs = L_layer_model(X, Y, layer_dims=[12288, 520, 415, 337, 221, 103, 88, 56, 21, 1], num_iterations = 2500, print_cost = True)"
   ]
  },
  {
   "cell_type": "code",
   "execution_count": null,
   "id": "f98fcd98",
   "metadata": {},
   "outputs": [],
   "source": []
  }
 ],
 "metadata": {
  "kernelspec": {
   "display_name": "Python 3 (ipykernel)",
   "language": "python",
   "name": "python3"
  },
  "language_info": {
   "codemirror_mode": {
    "name": "ipython",
    "version": 3
   },
   "file_extension": ".py",
   "mimetype": "text/x-python",
   "name": "python",
   "nbconvert_exporter": "python",
   "pygments_lexer": "ipython3",
   "version": "3.11.5"
  }
 },
 "nbformat": 4,
 "nbformat_minor": 5
}
